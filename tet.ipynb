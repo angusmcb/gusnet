{
 "cells": [
  {
   "cell_type": "code",
   "execution_count": 3,
   "id": "75c70885",
   "metadata": {},
   "outputs": [],
   "source": [
    "import subprocess, sys, platform, os\n",
    "from pathlib import Path\n",
    "import tempfile"
   ]
  },
  {
   "cell_type": "code",
   "execution_count": 4,
   "id": "1ee41cd9",
   "metadata": {},
   "outputs": [],
   "source": [
    "major, minor, _ = platform.python_version_tuple()\n",
    "packages_path = Path(tempfile.gettempdir()) / \"packages\" / (major + minor)\n",
    "packages_path.mkdir(parents=True, exist_ok=True)\n",
    "package_directory = str(packages_path.resolve())"
   ]
  },
  {
   "cell_type": "code",
   "execution_count": null,
   "id": "b6daa9a1",
   "metadata": {},
   "outputs": [
    {
     "data": {
      "text/plain": [
       "CompletedProcess(args=['python', '-m', 'pip', 'install', '--quiet', '--quiet', '--quiet', '--upgrade', '--force-reinstall', '--target=C:\\\\Users\\\\amcbride\\\\AppData\\\\Local\\\\Temp\\\\packages\\\\312', '--no-deps', 'wntr==1.3.2'], returncode=1, stdout='', stderr=\"WARNING: Retrying (Retry(total=4, connect=None, read=None, redirect=None, status=None)) after connection broken by 'NewConnectionError('<pip._vendor.urllib3.connection.HTTPSConnection object at 0x0000023E5E5E1CD0>: Failed to establish a new connection: [Errno 11001] getaddrinfo failed')': /simple/wntr/\\nWARNING: Retrying (Retry(total=3, connect=None, read=None, redirect=None, status=None)) after connection broken by 'NewConnectionError('<pip._vendor.urllib3.connection.HTTPSConnection object at 0x0000023E5E610E60>: Failed to establish a new connection: [Errno 11001] getaddrinfo failed')': /simple/wntr/\\nWARNING: Retrying (Retry(total=2, connect=None, read=None, redirect=None, status=None)) after connection broken by 'NewConnectionError('<pip._vendor.urllib3.connection.HTTPSConnection object at 0x0000023E5E8DA750>: Failed to establish a new connection: [Errno 11001] getaddrinfo failed')': /simple/wntr/\\nWARNING: Retrying (Retry(total=1, connect=None, read=None, redirect=None, status=None)) after connection broken by 'NewConnectionError('<pip._vendor.urllib3.connection.HTTPSConnection object at 0x0000023E5E8DA960>: Failed to establish a new connection: [Errno 11001] getaddrinfo failed')': /simple/wntr/\\nWARNING: Retrying (Retry(total=0, connect=None, read=None, redirect=None, status=None)) after connection broken by 'NewConnectionError('<pip._vendor.urllib3.connection.HTTPSConnection object at 0x0000023E5E8DAB70>: Failed to establish a new connection: [Errno 11001] getaddrinfo failed')': /simple/wntr/\\nERROR: Could not find a version that satisfies the requirement wntr==1.3.2 (from versions: none)\\nERROR: No matching distribution found for wntr==1.3.2\\n\")"
      ]
     },
     "execution_count": 44,
     "metadata": {},
     "output_type": "execute_result"
    }
   ],
   "source": [
    "kwargs = {}\n",
    "if os.name == \"nt\":\n",
    "    kwargs.setdefault(\"creationflags\", subprocess.CREATE_NO_WINDOW)\n",
    "\n",
    "\n",
    "process_result = subprocess.run(\n",
    "    [\n",
    "        \"python\" if os.name == \"nt\" else sys.executable,  # https://github.com/qgis/QGIS/issues/45646\n",
    "        \"-m\",\n",
    "        \"pip\",\n",
    "        \"install\",\n",
    "        \"--quiet\",\n",
    "        \"--quiet\",\n",
    "        \"--upgrade\",\n",
    "        \"--force-reinstall\",\n",
    "        \"--target=\" + package_directory,\n",
    "        \"--no-deps\",\n",
    "        # \"--find-links=\" + cls.wheels_directory(),\n",
    "        \"wntr==1.3.2\",\n",
    "    ],\n",
    "    text=True,\n",
    "    # stderr=subprocess.PIPE,\n",
    "    # stdout=subprocess.PIPE,\n",
    "    capture_output=True,\n",
    "    **kwargs,\n",
    ")\n",
    "process_result"
   ]
  },
  {
   "cell_type": "code",
   "execution_count": 45,
   "id": "eb72120d",
   "metadata": {},
   "outputs": [
    {
     "data": {
      "text/plain": [
       "\"WARNING: Retrying (Retry(total=4, connect=None, read=None, redirect=None, status=None)) after connection broken by 'NewConnectionError('<pip._vendor.urllib3.connection.HTTPSConnection object at 0x0000023E5E5E1CD0>: Failed to establish a new connection: [Errno 11001] getaddrinfo failed')': /simple/wntr/\\nWARNING: Retrying (Retry(total=3, connect=None, read=None, redirect=None, status=None)) after connection broken by 'NewConnectionError('<pip._vendor.urllib3.connection.HTTPSConnection object at 0x0000023E5E610E60>: Failed to establish a new connection: [Errno 11001] getaddrinfo failed')': /simple/wntr/\\nWARNING: Retrying (Retry(total=2, connect=None, read=None, redirect=None, status=None)) after connection broken by 'NewConnectionError('<pip._vendor.urllib3.connection.HTTPSConnection object at 0x0000023E5E8DA750>: Failed to establish a new connection: [Errno 11001] getaddrinfo failed')': /simple/wntr/\\nWARNING: Retrying (Retry(total=1, connect=None, read=None, redirect=None, status=None)) after connection broken by 'NewConnectionError('<pip._vendor.urllib3.connection.HTTPSConnection object at 0x0000023E5E8DA960>: Failed to establish a new connection: [Errno 11001] getaddrinfo failed')': /simple/wntr/\\nWARNING: Retrying (Retry(total=0, connect=None, read=None, redirect=None, status=None)) after connection broken by 'NewConnectionError('<pip._vendor.urllib3.connection.HTTPSConnection object at 0x0000023E5E8DAB70>: Failed to establish a new connection: [Errno 11001] getaddrinfo failed')': /simple/wntr/\\nERROR: Could not find a version that satisfies the requirement wntr==1.3.2 (from versions: none)\\nERROR: No matching distribution found for wntr==1.3.2\\n\""
      ]
     },
     "execution_count": 45,
     "metadata": {},
     "output_type": "execute_result"
    }
   ],
   "source": [
    "process_result.stderr"
   ]
  },
  {
   "cell_type": "code",
   "execution_count": 46,
   "id": "2517592f",
   "metadata": {},
   "outputs": [
    {
     "data": {
      "text/plain": [
       "''"
      ]
     },
     "execution_count": 46,
     "metadata": {},
     "output_type": "execute_result"
    }
   ],
   "source": [
    "process_result.stdout"
   ]
  }
 ],
 "metadata": {
  "kernelspec": {
   "display_name": ".venv",
   "language": "python",
   "name": "python3"
  },
  "language_info": {
   "codemirror_mode": {
    "name": "ipython",
    "version": 3
   },
   "file_extension": ".py",
   "mimetype": "text/x-python",
   "name": "python",
   "nbconvert_exporter": "python",
   "pygments_lexer": "ipython3",
   "version": "3.12.9"
  }
 },
 "nbformat": 4,
 "nbformat_minor": 5
}
